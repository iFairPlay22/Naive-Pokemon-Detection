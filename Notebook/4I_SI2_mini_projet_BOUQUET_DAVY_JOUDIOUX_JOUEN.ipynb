{
 "cells": [
  {
   "cell_type": "markdown",
   "id": "2a933425",
   "metadata": {},
   "source": [
    "# 4I SI2 - Mini projet Machine Learning"
   ]
  },
  {
   "cell_type": "markdown",
   "id": "adf78db6",
   "metadata": {},
   "source": [
    "## Sommaire"
   ]
  },
  {
   "cell_type": "markdown",
   "id": "dce7e93c",
   "metadata": {},
   "source": [
    "* [Introduction](#introduction)\n",
    "* [Etat de l'art](#etat_de_lart)\n",
    "    * [Convolutional Neural Networks](#cnn)\n",
    "    * [Regression Logistique](#regression_logistique)\n",
    "* [Ressources](#ressources)"
   ]
  },
  {
   "cell_type": "markdown",
   "id": "739d3f2d",
   "metadata": {},
   "source": [
    "## Introduction <a class=\"anchor\" id=\"introduction\"></a>"
   ]
  },
  {
   "cell_type": "markdown",
   "id": "d5f86c16",
   "metadata": {},
   "source": [
    "Dans le but de créer une application de reconnaissance de Pokémon, type Pokedex, il nous a été demandé de developper la partie reconnaissance de Pokémon. Afin de réaliser cet objectif, nous utiliserons une méthode de reconnaissance d'image.<br/>\n",
    "Dans un second temps, nous detaillerons une méthode que nous trouverons la plus adaptée a notre problématique et nous essayerons de la mettre en oeuvre. <br/>\n",
    "Enfin nous concluerons sur les resultats que nous obtiendrons."
   ]
  },
  {
   "cell_type": "markdown",
   "id": "610c76c8",
   "metadata": {},
   "source": [
    "<img src=\"https://assets.pokemon.com/assets/cms2/img/pokedex/full/025.png\" style=\"width: 100px;\"></img>\n",
    "<img src=\"https://res.cloudinary.com/practicaldev/image/fetch/s--ugAVgNoo--/c_imagga_scale,f_auto,fl_progressive,h_420,q_auto,w_1000/https://cdn-images-1.medium.com/max/2000/0%2A0Y5OTBWR-YCcfel5.png\" style=\"width: 500px;\"></img>"
   ]
  },
  {
   "cell_type": "markdown",
   "id": "7fc2fdd9",
   "metadata": {},
   "source": [
    "## Etat de l'art de la reconnaissance d'images <a class=\"anchor\" id=\"ressources\"></a>"
   ]
  },
  {
   "cell_type": "markdown",
   "id": "a26912ac",
   "metadata": {},
   "source": [
    "La reconnaissance d'images, est une sous-catégorie de la vision par ordinateur et de l'intelligence artificielle. Elle représente un ensemble de méthodes de détection et d'analyse d'images permettant l'automatisation d'une tâche spécifique. Il s'agit d'une technologie capable d'identifier des lieux, des personnes, des objets et de nombreux autres types d'éléments dans une image, et d'en tirer des conclusions en les analysant.<br/>\n",
    "\n",
    "Il existe donc différentes \"tâches\" que la reconnaissance d'images peut effectuer : \n",
    "\n",
    "- La classification. C'est l'identification de la \"classe\", c'est-à-dire de la catégorie à laquelle appartient une image. Une image ne peut avoir qu'une seule classe.  \n",
    "- Le marquage. Il s'agit également d'une tâche de classification, mais avec un degré de précision plus élevé. Elle permet de reconnaître la présence de plusieurs concepts ou objets dans une image. Une ou plusieurs étiquettes peuvent donc être attribuées à une image particulière.  \n",
    "- Détection. Cette tâche est nécessaire lorsque l'on veut localiser un objet dans une image. Une fois l'objet localisé, une boîte de délimitation est placée autour de l'objet en question.   \n",
    "- Segmentation. Il s'agit également d'une tâche de détection. La segmentation permet de localiser un élément sur une image au pixel près. Dans certains cas, il est nécessaire d'être extrêmement précis, comme pour le développement des voitures autonomes.\n",
    "\n",
    "Ainsi pour notre problématique, nous utiliserons une tache de classification d'images. Il s'agit d'un problème d'apprentissage supervisé, c'est à dire qu'il est capable réaliser une tâche d'apprentissage automatique consistant à apprendre une fonction de prédiction à partir d'exemples annotés. Il s'agit, dans un premier temps, de définir un ensemble de classes cibles (objets à identifier dans les images) et d'entraîner un modèle à les reconnaître à l'aide de photos exemples labelées. <br/>\n",
    "Les premiers modèles de vision par ordinateur s'appuyaient sur des données de pixels brutes comme entrée du modèle. Cependant, les données de pixels brutes ne fournissent pas à elles seules une représentation suffisamment stable pour englober la multitude de variations d'un objet capturé dans une image. La position de l'objet, l'arrière-plan derrière l'objet, l'éclairage ambiant, l'angle de la caméra et la mise au point de la caméra peuvent tous produire des fluctuations dans les données de pixels brutes ; ces différences sont suffisamment importantes pour ne pas pouvoir être corrigées en prenant des moyennes pondérées des valeurs RVB des pixels. <br/>\n",
    "Nous étudierons différentes méthodes utilisées dans la reconnaissance d'images, et réaliserons un descriptif succincte de celles-ci."
   ]
  },
  {
   "cell_type": "markdown",
   "id": "21bdc76f",
   "metadata": {},
   "source": [
    "### Convolutional Neural Networks <a class=\"anchor\" id=\"cnn\"></a>"
   ]
  },
  {
   "cell_type": "markdown",
   "id": "ec509343",
   "metadata": {},
   "source": [
    "Au lieu de prétraiter les données pour en extraire des caractéristiques telles que les textures et les formes, un réseau neuronal convolutif prend en entrée les données brutes des pixels de l'image et \"apprend\" à extraire ces caractéristiques, pour finalement déduire l'objet qu'elles constituent. <br/>\n",
    "Afin de réaliser cette prédiction, le modèle reçoit une carte de caractéristiques en entrée : une matrice tridimensionnelle où la taille des deux premières dimensions correspond à la longueur et à la largeur des images en pixels. La taille de la troisième dimension est 3 (correspondant aux 3 canaux d'une image couleur : rouge, vert et bleu). Le modèle est composé d'une pile de modules, chacun d'entre eux effectuant trois opérations.<br/>\n",
    "\n",
    "<img src=\"https://miro.medium.com/max/2000/1*vkQ0hXDaQv57sALXAJquxA.jpeg\" style=\"width: 700px;\"></img>\n",
    "\n",
    "#### Convolution\n",
    "\n",
    "Une convolution extrait des portions de la carte de caractéristiques (matrice) d'entrée et leur applique des filtres pour calculer de nouvelles caractéristiques, produisant une carte de caractéristiques de sortie, ou caractéristique convoluée. Cette matrice de sortie peut avoir une taille et une profondeur différentes de celle de la carte de caractéristique. <br/>\n",
    "<img src=\"https://developers.google.com/machine-learning/practica/image-classification/images/convolution_overview.gif\" style=\"width: 700px;\"></img>\n",
    "\n",
    "#### ReLU\n",
    "\n",
    "Après chaque opération de convolution, le modèle applique une transformation ReLU (Rectified Linear Unit) à la caractéristique de sortie de la convolution, afin d'introduire une non-linéarité dans le modèle. La fonction ReLU, renvoie x pour toutes les valeurs de x > 0, et renvoie 0 pour toutes les valeurs de x ≤ 0. <br/>\n",
    "\n",
    "#### Pooling\n",
    "\n",
    "Après ReLU vient une étape de pooling, dans laquelle le modèle sous-échantillonne la caractéristique de sortie de ReLU (pour gagner du temps de traitement), réduisant ainsi le nombre de dimensions de la carte de caractéristiques, tout en préservant les informations les plus critiques de la caractéristique. Un algorithme couramment utilisé pour ce processus est appelé max pooling. <br/>\n",
    "\n",
    "<img src=\"https://developers.google.com/machine-learning/practica/image-classification/images/maxpool_animation.gif\" style=\"width: 700px;\"></img>\n",
    "\n",
    "À la fin d'un réseau neuronal convolutif se trouvent une ou plusieurs couches entièrement connectées. Leur tâche consiste à effectuer une classification sur la base des caractéristiques extraites par les convolutions. En général, la dernière couche entièrement connectée contient une fonction d'activation softmax, qui produit une valeur de probabilité de 0 à 1 pour chacune des étiquettes de classification que le modèle tente de prédire."
   ]
  },
  {
   "cell_type": "markdown",
   "id": "cdfaeafe",
   "metadata": {},
   "source": [
    "### Regression logistique <a class=\"anchor\" id=\"regression_logistique\"></a>"
   ]
  },
  {
   "attachments": {},
   "cell_type": "markdown",
   "id": "0bd4b8dc",
   "metadata": {},
   "source": [
    "La régression logistique est une méthode d'analyse statistique qui consiste à prédire une valeur de données d'après les observations réelles d'un jeu de données. Cette approche permet d'utiliser un algorithme dans l'application d'apprentissage automatique pour classer les données entrantes en fonction des données historiques.<br/>\n",
    "Cette méthode est particulièrement efficace sur la classification binaire, c'est à dire, qui a deux issues possibles. Mais on peut également faire de la classification multi classes, c'est à dire, avec plusieurs issues possibles.\n",
    "Il faut alors trouver une ligne capable de délimiter les ensembles.<br/>\n",
    "<img src=\"https://media.geeksforgeeks.org/wp-content/uploads/classification-1.png\" style=\"width: 500px;\"></img>\n",
    "<img src=\"https://miro.medium.com/max/972/1*SwXHlCzh-d9UqHOglp3vcA.png\" style=\"width: 500px;\"></img>\n",
    "\n",
    "Le traitement a effectuer ensuite est différent en fonction de la classification a effectuer (binaire ou multi classes).\n",
    "\n",
    "#### Classification binaire (Sigmoid Function)\n",
    "\n",
    "La regression logistique est un modèle de classification linéaire, quand Y ne doit prendre que deux valeurs possibles (0 ou 1). Le modèle étant linéaire, la fonction hypothèse pourra s'écrire : $ S(X) = \\sum \\limits _{i=0} ^{n+1} {\\theta}_{i}x_{i} $. <br/>\n",
    "Avec :\n",
    "- $X$ : une observation, cette variable est un vecteur contenant $x_{0}, x_{1},..., x_{n}$.\n",
    "- $x_{i}$ : est une variable prédictive qui servira dans le calcul du modèle prédictif.\n",
    "- ${\\theta}_{i}$ : est un poids/paramètre de la fonction hypothèse. Ce sont ces ${\\theta}_{i}$ qu’on cherche à calculer pour obtenir notre fonction de prédiction.\n",
    "\n",
    "Cette fonction est appelée la fonction **score**. L’idée est alors de trouver des coefficients $ {\\theta}_{0}, {\\theta}_{1}, …,{\\theta_{n}} $ de sorte que :\n",
    "\n",
    "- $S(X) > 0$ quand la classe vaut valeur 1\n",
    "- $S(X) < 0$ quand la classe vaut valeur 0\n",
    "\n",
    "Cette fonction score obtenue intègre les différentes variables prédictive $x_{i}$. On y appliquera ensuite, la fonction **sigmoid** qui permet de produire des valeurs comprises entre 0 et 1. Le résultat obtenu peut être alors interprété comme la probabilité qui l'observation $X$ soit la valeur 1.\n",
    "\n",
    "La fonction sigmoid, est définie par $Sigmoid(x) = \\frac{1}{1 + e^{-x}}$.\n",
    "\n",
    "<img src=\"https://upload.wikimedia.org/wikipedia/commons/thumb/5/53/Sigmoid-function-2.svg/2560px-Sigmoid-function-2.svg.png\" style=\"width: 500px;\"></img>\n",
    "\n",
    "En appliquant cette fonction sigmoid a notre fonction score, nous obtenons la fonction suivante : $H(X)=\\frac{1}{1 + e^{S(X)}}$. <br/>\n",
    "Pour interpreter les résultats, si $H(X)=0.3$, cela signifie que $X$ a 30% de chance d'être la valeur 1.\n",
    "\n",
    "#### Classification multi classes (Algorithme All-vs-One)\n",
    "\n",
    "L'algorithme All-vs-One consiste à découper le problème de classification multi-classes en une multitude de problèmes de classification binaires.\n",
    "\n",
    "<img src=\"https://miro.medium.com/max/1400/1*RElrybCZ4WPsUfRwDl7fqA.png\" style=\"width: 500px;\"></img>\n",
    "\n",
    "1. On considère que les triangles sont la classe positive et le reste comme la classe négative (dans ce cas, les carrés et les croix seront dans le même groupe de classe négative), et on entraîne la régression logistique sur cette configuration de données. Ce qui produira une fonction de prédiction $H^1(X)$.\n",
    "2. On considère les carrés comme la classe positive et le reste comme la classe négative, et on entraîne la régression logistique pour obtenir une deuxième fonction de prédiction : $H^2(X)$.\n",
    "3. On considère les croix comme la classe positive et le reste comme la classe négative, et on entraîne la régression logistique pour obtenir $H^3(X)$.\n",
    "\n",
    "Chacune des ces fonctions de prédiction $H^1(X)$, $H^2(X)$ et $H^3(X)$ nous donnera la probabilité que $X$ soit de la classe étudiée respectivement. La bonne classe de l’observation x est celle pour laquelle on a obtenu la plus grande probabilité. $max(H^1(X),H^2(X),...,H^n(X))$\n"
   ]
  },
  {
   "cell_type": "markdown",
   "id": "ebd22485",
   "metadata": {},
   "source": [
    "## Ressources <a class=\"anchor\" id=\"etat_de_lart\"></a>"
   ]
  },
  {
   "cell_type": "markdown",
   "id": "155637a7",
   "metadata": {},
   "source": [
    "- [Google ML Practicum: Image Classification](https://developers.google.com/machine-learning/practica/image-classification?hl=en)\n",
    "- [Classifying Pokémon Images with Machine Learning](https://medium.com/m2mtechconnect/classifying-pok%C3%A9mon-images-with-machine-learning-79b9bc07c080)\n",
    "- [Regression lineaire mrmint](https://mrmint.fr/logistic-regression-machine-learning-introduction-simple)\n",
    "- [Regression lineaire whatis](https://whatis.techtarget.com/fr/definition/Regression-logistique)\n",
    "- [Dataset de Pokémon](https://www.kaggle.com/kvpratama/pokemon-images-dataset)"
   ]
  },
  {
   "cell_type": "code",
   "execution_count": null,
   "id": "4b5a69c2",
   "metadata": {},
   "outputs": [],
   "source": []
  }
 ],
 "metadata": {
  "kernelspec": {
   "display_name": "Python 3 (ipykernel)",
   "language": "python",
   "name": "python3"
  },
  "language_info": {
   "codemirror_mode": {
    "name": "ipython",
    "version": 3
   },
   "file_extension": ".py",
   "mimetype": "text/x-python",
   "name": "python",
   "nbconvert_exporter": "python",
   "pygments_lexer": "ipython3",
   "version": "3.9.5"
  }
 },
 "nbformat": 4,
 "nbformat_minor": 5
}
