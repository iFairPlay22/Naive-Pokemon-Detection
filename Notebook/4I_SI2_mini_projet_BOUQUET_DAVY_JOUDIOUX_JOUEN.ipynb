{
 "cells": [
  {
   "cell_type": "markdown",
   "id": "2a933425",
   "metadata": {},
   "source": [
    "# 4I SI2 - Mini projet Machine Learning"
   ]
  },
  {
   "cell_type": "markdown",
   "id": "adf78db6",
   "metadata": {},
   "source": [
    "## Sommaire"
   ]
  },
  {
   "cell_type": "markdown",
   "id": "dce7e93c",
   "metadata": {},
   "source": [
    "* [Introduction](#introduction)\n",
    "* [Etat de l'art](#etat_de_lart)\n",
    "    * [Convolutional Neural Networks](#cnn)\n",
    "    * [Regression Logistique](#regression_logistique)\n",
    "    * [K-plus proche voisin](#knn)\n",
    "    * [Choix de la méthode utilisée](#choix_methode)\n",
    "* [Pokédex](#pokedex)\n",
    "    * [Présentation détaillée des K-plus proche voisins](#knn_detail)\n",
    "    * [Choisir K](#choix_K)\n",
    "* [Ressources](#ressources)"
   ]
  },
  {
   "cell_type": "markdown",
   "id": "739d3f2d",
   "metadata": {},
   "source": [
    "## Introduction <a class=\"anchor\" id=\"introduction\"></a>"
   ]
  },
  {
   "cell_type": "markdown",
   "id": "d5f86c16",
   "metadata": {},
   "source": [
    "Dans le but de créer une application de reconnaissance de Pokémon, type Pokedex, il nous a été demandé de developper la partie reconnaissance de Pokémon. Afin de réaliser cet objectif, nous utiliserons une méthode de reconnaissance d'image.<br/>\n",
    "Dans un second temps, nous detaillerons une méthode que nous trouverons la plus adaptée a notre problématique et nous essayerons de la mettre en oeuvre. <br/>\n",
    "Enfin nous concluerons sur les resultats que nous obtiendrons."
   ]
  },
  {
   "cell_type": "markdown",
   "id": "610c76c8",
   "metadata": {},
   "source": [
    "<img src=\"https://assets.pokemon.com/assets/cms2/img/pokedex/full/025.png\" style=\"width: 100px;\"></img>\n",
    "<img src=\"https://res.cloudinary.com/practicaldev/image/fetch/s--ugAVgNoo--/c_imagga_scale,f_auto,fl_progressive,h_420,q_auto,w_1000/https://cdn-images-1.medium.com/max/2000/0%2A0Y5OTBWR-YCcfel5.png\" style=\"width: 500px;\"></img>"
   ]
  },
  {
   "cell_type": "markdown",
   "id": "7fc2fdd9",
   "metadata": {},
   "source": [
    "## Etat de l'art de la reconnaissance d'images <a class=\"anchor\" id=\"ressources\"></a>"
   ]
  },
  {
   "cell_type": "markdown",
   "id": "a26912ac",
   "metadata": {},
   "source": [
    "La reconnaissance d'images, est une sous-catégorie de la vision par ordinateur et de l'intelligence artificielle. Elle représente un ensemble de méthodes de détection et d'analyse d'images permettant l'automatisation d'une tâche spécifique. Il s'agit d'une technologie capable d'identifier des lieux, des personnes, des objets et de nombreux autres types d'éléments dans une image, et d'en tirer des conclusions en les analysant.<br/>\n",
    "\n",
    "Il existe donc différentes \"tâches\" que la reconnaissance d'images peut effectuer : \n",
    "\n",
    "- La classification. C'est l'identification de la \"classe\", c'est-à-dire de la catégorie à laquelle appartient une image. Une image ne peut avoir qu'une seule classe.  \n",
    "- Le marquage. Il s'agit également d'une tâche de classification, mais avec un degré de précision plus élevé. Elle permet de reconnaître la présence de plusieurs concepts ou objets dans une image. Une ou plusieurs étiquettes peuvent donc être attribuées à une image particulière.  \n",
    "- Détection. Cette tâche est nécessaire lorsque l'on veut localiser un objet dans une image. Une fois l'objet localisé, une boîte de délimitation est placée autour de l'objet en question.   \n",
    "- Segmentation. Il s'agit également d'une tâche de détection. La segmentation permet de localiser un élément sur une image au pixel près. Dans certains cas, il est nécessaire d'être extrêmement précis, comme pour le développement des voitures autonomes.\n",
    "\n",
    "Ainsi pour notre problématique, nous utiliserons une tache de classification d'images. Il s'agit d'un problème d'apprentissage supervisé, c'est à dire qu'il est capable réaliser une tâche d'apprentissage automatique consistant à apprendre une fonction de prédiction à partir d'exemples annotés. Il s'agit, dans un premier temps, de définir un ensemble de classes cibles (objets à identifier dans les images) et d'entraîner un modèle à les reconnaître à l'aide de photos exemples labelées. <br/>\n",
    "Les premiers modèles de vision par ordinateur s'appuyaient sur des données de pixels brutes comme entrée du modèle. Cependant, les données de pixels brutes ne fournissent pas à elles seules une représentation suffisamment stable pour englober la multitude de variations d'un objet capturé dans une image. La position de l'objet, l'arrière-plan derrière l'objet, l'éclairage ambiant, l'angle de la caméra et la mise au point de la caméra peuvent tous produire des fluctuations dans les données de pixels brutes ; ces différences sont suffisamment importantes pour ne pas pouvoir être corrigées en prenant des moyennes pondérées des valeurs RVB des pixels. <br/>\n",
    "Nous étudierons différentes méthodes utilisées dans la reconnaissance d'images, et réaliserons un descriptif succincte de celles-ci."
   ]
  },
  {
   "cell_type": "markdown",
   "id": "21bdc76f",
   "metadata": {},
   "source": [
    "### Convolutional Neural Networks <a class=\"anchor\" id=\"cnn\"></a>"
   ]
  },
  {
   "cell_type": "markdown",
   "id": "ec509343",
   "metadata": {},
   "source": [
    "Au lieu de prétraiter les données pour en extraire des caractéristiques telles que les textures et les formes, un réseau neuronal convolutif prend en entrée les données brutes des pixels de l'image et \"apprend\" à extraire ces caractéristiques, pour finalement déduire l'objet qu'elles constituent. <br/>\n",
    "Afin de réaliser cette prédiction, le modèle reçoit une carte de caractéristiques en entrée : une matrice tridimensionnelle où la taille des deux premières dimensions correspond à la longueur et à la largeur des images en pixels. La taille de la troisième dimension est 3 (correspondant aux 3 canaux d'une image couleur : rouge, vert et bleu). Le modèle est composé d'une pile de modules, chacun d'entre eux effectuant trois opérations.<br/>\n",
    "\n",
    "<img src=\"https://miro.medium.com/max/2000/1*vkQ0hXDaQv57sALXAJquxA.jpeg\" style=\"width: 700px;\"></img>\n",
    "\n",
    "#### Convolution\n",
    "\n",
    "Une convolution extrait des portions de la carte de caractéristiques (matrice) d'entrée et leur applique des filtres pour calculer de nouvelles caractéristiques, produisant une carte de caractéristiques de sortie, ou caractéristique convoluée. Cette matrice de sortie peut avoir une taille et une profondeur différentes de celle de la carte de caractéristique. <br/>\n",
    "<img src=\"https://developers.google.com/machine-learning/practica/image-classification/images/convolution_overview.gif\" style=\"width: 700px;\"></img>\n",
    "\n",
    "#### ReLU\n",
    "\n",
    "Après chaque opération de convolution, le modèle applique une transformation ReLU (Rectified Linear Unit) à la caractéristique de sortie de la convolution, afin d'introduire une non-linéarité dans le modèle. La fonction ReLU, renvoie x pour toutes les valeurs de x > 0, et renvoie 0 pour toutes les valeurs de x ≤ 0. <br/>\n",
    "\n",
    "#### Pooling\n",
    "\n",
    "Après ReLU vient une étape de pooling, dans laquelle le modèle sous-échantillonne la caractéristique de sortie de ReLU (pour gagner du temps de traitement), réduisant ainsi le nombre de dimensions de la carte de caractéristiques, tout en préservant les informations les plus critiques de la caractéristique. Un algorithme couramment utilisé pour ce processus est appelé max pooling. <br/>\n",
    "\n",
    "<img src=\"https://developers.google.com/machine-learning/practica/image-classification/images/maxpool_animation.gif\" style=\"width: 700px;\"></img>\n",
    "\n",
    "À la fin d'un réseau neuronal convolutif se trouvent une ou plusieurs couches entièrement connectées. Leur tâche consiste à effectuer une classification sur la base des caractéristiques extraites par les convolutions. En général, la dernière couche entièrement connectée contient une fonction d'activation softmax, qui produit une valeur de probabilité de 0 à 1 pour chacune des étiquettes de classification que le modèle tente de prédire."
   ]
  },
  {
   "cell_type": "markdown",
   "id": "cdfaeafe",
   "metadata": {},
   "source": [
    "### Regression logistique <a class=\"anchor\" id=\"regression_logistique\"></a>"
   ]
  },
  {
   "cell_type": "markdown",
   "id": "0bd4b8dc",
   "metadata": {},
   "source": [
    "La régression logistique est une méthode d'analyse statistique qui consiste à prédire une valeur de données d'après les observations réelles d'un jeu de données. Cette approche permet d'utiliser un algorithme dans l'application d'apprentissage automatique pour classer les données entrantes en fonction des données historiques.<br/>\n",
    "Cette méthode est particulièrement efficace sur la classification binaire, c'est à dire, qui a deux issues possibles. Mais on peut également faire de la classification multi classes, c'est à dire, avec plusieurs issues possibles.\n",
    "Il faut alors trouver une ligne capable de délimiter les ensembles.<br/>\n",
    "<img src=\"https://media.geeksforgeeks.org/wp-content/uploads/classification-1.png\" style=\"width: 500px;\"></img>\n",
    "<img src=\"https://miro.medium.com/max/972/1*SwXHlCzh-d9UqHOglp3vcA.png\" style=\"width: 500px;\"></img>\n",
    "\n",
    "Le traitement a effectuer ensuite est différent en fonction de la classification a effectuer (binaire ou multi classes).\n",
    "\n",
    "#### Classification binaire (Sigmoid Function)\n",
    "\n",
    "La regression logistique est un modèle de classification linéaire, quand Y ne doit prendre que deux valeurs possibles (0 ou 1). Le modèle étant linéaire, la fonction hypothèse pourra s'écrire : $ S(X) = \\sum \\limits _{i=0} ^{n+1} {\\theta}_{i}x_{i} $. <br/>\n",
    "Avec :\n",
    "- $X$ : une observation, cette variable est un vecteur contenant $x_{0}, x_{1},..., x_{n}$.\n",
    "- $x_{i}$ : est une variable prédictive qui servira dans le calcul du modèle prédictif.\n",
    "- ${\\theta}_{i}$ : est un poids/paramètre de la fonction hypothèse. Ce sont ces ${\\theta}_{i}$ qu’on cherche à calculer pour obtenir notre fonction de prédiction.\n",
    "\n",
    "Cette fonction est appelée la fonction **score**. L’idée est alors de trouver des coefficients $ {\\theta}_{0}, {\\theta}_{1}, …,{\\theta_{n}} $ de sorte que :\n",
    "\n",
    "- $S(X) > 0$ quand la classe vaut valeur 1\n",
    "- $S(X) < 0$ quand la classe vaut valeur 0\n",
    "\n",
    "Cette fonction score obtenue intègre les différentes variables prédictive $x_{i}$. On y appliquera ensuite, la fonction **sigmoid** qui permet de produire des valeurs comprises entre 0 et 1. Le résultat obtenu peut être alors interprété comme la probabilité qui l'observation $X$ soit la valeur 1.\n",
    "\n",
    "La fonction sigmoid, est définie par $Sigmoid(x) = \\frac{1}{1 + e^{-x}}$.\n",
    "\n",
    "<img src=\"https://upload.wikimedia.org/wikipedia/commons/thumb/5/53/Sigmoid-function-2.svg/2560px-Sigmoid-function-2.svg.png\" style=\"width: 500px;\"></img>\n",
    "\n",
    "En appliquant cette fonction sigmoid a notre fonction score, nous obtenons la fonction suivante : $H(X)=\\frac{1}{1 + e^{S(X)}}$. <br/>\n",
    "Pour interpreter les résultats, si $H(X)=0.3$, cela signifie que $X$ a 30% de chance d'être la valeur 1.\n",
    "\n",
    "#### Classification multi classes (Algorithme All-vs-One)\n",
    "\n",
    "L'algorithme All-vs-One consiste à découper le problème de classification multi-classes en une multitude de problèmes de classification binaires.\n",
    "\n",
    "<img src=\"https://miro.medium.com/max/1400/1*RElrybCZ4WPsUfRwDl7fqA.png\" style=\"width: 500px;\"></img>\n",
    "\n",
    "1. On considère que les triangles sont la classe positive et le reste comme la classe négative (dans ce cas, les carrés et les croix seront dans le même groupe de classe négative), et on entraîne la régression logistique sur cette configuration de données. Ce qui produira une fonction de prédiction $H^1(X)$.\n",
    "2. On considère les carrés comme la classe positive et le reste comme la classe négative, et on entraîne la régression logistique pour obtenir une deuxième fonction de prédiction : $H^2(X)$.\n",
    "3. On considère les croix comme la classe positive et le reste comme la classe négative, et on entraîne la régression logistique pour obtenir $H^3(X)$.\n",
    "\n",
    "Chacune des ces fonctions de prédiction $H^1(X)$, $H^2(X)$ et $H^3(X)$ nous donnera la probabilité que $X$ soit de la classe étudiée respectivement. La bonne classe de l’observation x est celle pour laquelle on a obtenu la plus grande probabilité. $max(H^1(X),H^2(X),...,H^n(X))$\n"
   ]
  },
  {
   "cell_type": "markdown",
   "id": "3c1a1309",
   "metadata": {},
   "source": [
    "### K-plus proches voisins <a class=\"anchor\" id=\"knn\"></a>"
   ]
  },
  {
   "cell_type": "markdown",
   "id": "f741bbae",
   "metadata": {},
   "source": [
    "La méthode des K-plus proches voisins est une méthode de régression et de classification. Elle fait partie des méthodes les plus utilisées car elle est très simple. <br/>\n",
    "Il s'agit d'une méthode non paramétriques, c'est à dire une méthode pour laquelle nous n'effectuons pas d'hypothèse de paramètres, qui mémorise les observations de l'ensemble d'apprentissage pour la classification de l'ensemble de tests. <br/>\n",
    "Ainsi, la méthode est définie comme étant paresseuse car elle n'apprend rien pendant la phase d'entrainement.<br/>\n",
    "Afin de prédire la classe d'une donnée, elle va chercher ses K voisins les plus proches par le calcul de la distance euclidienne par la formule : <br/>\n",
    "$\\sum \\limits _{i=1} ^{n} | x_{i}-y_{i} |$ \n",
    "<br/>\n",
    "Une fois la distance euclidienne calculée autour de notre nouvelle donnée, il nous suffit de calculer le nombre d'élèments de chaque classe présent dans ce périmètre et choisir la classe majoritaire comme étant la classe d'appartenance de cette donnée.\n",
    "<br/>\n",
    "<img src=\"https://miro.medium.com/max/810/1*0Pqqx6wGDfFm_7GLebg2Hw.png\" style=\"width: 300px;\"></img>\n",
    "<br/>\n",
    "Afin d'appliquer cette méthode, nous devons dans un premier temps fixer le nombre de voisin K. Pour ce faire, nous devons faire plusieurs essais en faisant varier K. Pour chaque K, nous devons calculer le taux d'erreur sur l'ensemble de test et ainsi choisir celui qui minimise ce taux d'erreur. <br/>\n",
    "L'importance dans le choix de notre K est illustré dans le schema ci-dessus. Ainsi, nous visualisons que si nous choisissons : \n",
    "- K=3, la nouvelle entrée appartiendrait à la classe A\n",
    "- K=5, la nouvelle entrée appartiendrait à la classe B\n",
    "<br/>\n",
    "<img src=\"https://datascientest.com/wp-content/uploads/2020/11/Illu-4-KNN-1536x856.jpg.webp\" style=\"width: 600px;\"></img>\n",
    "<br/>\n",
    "Nous visualisons alors avec le résultat de l'évolution du taux d'erreur en fonction du nombre de K voisins, que la valeur de K voisins à choisir est en 5 et 18. <br/>\n",
    "Dans cet exemple, pour $K > 18$, nous observons un phénomène de sur-apprentissage, c'est à dire que le modèle explique trop bien les données mais ne parvient pas à faire des prédictions utiles pour les nouvelles données.\n"
   ]
  },
  {
   "cell_type": "markdown",
   "id": "f76c280a",
   "metadata": {},
   "source": [
    "### Choix de la méthode utilisée <a class=\"anchor\" id=\"choix_methode\"></a>"
   ]
  },
  {
   "cell_type": "markdown",
   "id": "1df0fe56",
   "metadata": {},
   "source": [
    "|Méthodes étudiées|CNN|Régression linéaire|KNN|\n",
    "|---|---|---|---|\n",
    "|Avantages (+) | Méthode très fiable  |Simple à mettre en oeuvre|Simple à mettre en oeuvre <br/> Pas necessaire de créer un modèle ni de regler plusieurs paramètres|\n",
    "|Inconvénients (-) | Demande beaucoup de ressources |Des valeurs abérantes peuvent subvenirs|Devient beaucoup plus lent lorsque le nombre de variable indépendantes augmente|\n",
    "\n",
    "Ainsi, nous nous avons pu éliminer la Convolutionnal Nerronal Network puisque sur nos ordinateurs, il nous aurait été impossible de changer les pondérations de nos neurones par manque de puissance de calcul. <br/>\n",
    "Il nous reste alors à faire le choix entre la régression lineaire et K-plus proches voisins.<br/>\n",
    "Nous avons choisi de travailler avec les K-plus proches voisins puisque cette méthode nous semble adaptée à notre problématique qui est multi-classe (une classe par Pokémon). En plus, la partie recherche de K avec l'étude du taux d'erreur nous intéresse grandement.<br/>\n",
    "<br/>\n",
    "**Choix final : K-plus proche voisins**"
   ]
  },
  {
   "cell_type": "markdown",
   "id": "bca9cd7a",
   "metadata": {},
   "source": [
    "## Pokédex <a class=\"anchor\" id=\"pokedex\"></a>"
   ]
  },
  {
   "cell_type": "code",
   "execution_count": null,
   "id": "ffc5d3e9",
   "metadata": {},
   "outputs": [],
   "source": []
  },
  {
   "cell_type": "markdown",
   "id": "b13ccb88",
   "metadata": {},
   "source": [
    "### Présentation détaillée des K-plus proche voisins <a class=\"anchor\" id=\"knn_detail\"></a>"
   ]
  },
  {
   "cell_type": "markdown",
   "id": "ebd22485",
   "metadata": {},
   "source": [
    "## Ressources <a class=\"anchor\" id=\"etat_de_lart\"></a>"
   ]
  },
  {
   "cell_type": "markdown",
   "id": "155637a7",
   "metadata": {},
   "source": [
    "- [Google ML Practicum: Image Classification](https://developers.google.com/machine-learning/practica/image-classification?hl=en)\n",
    "- [Classifying Pokémon Images with Machine Learning](https://medium.com/m2mtechconnect/classifying-pok%C3%A9mon-images-with-machine-learning-79b9bc07c080)\n",
    "- [Regression lineaire mrmint](https://mrmint.fr/logistic-regression-machine-learning-introduction-simple)\n",
    "- [Regression lineaire whatis](https://whatis.techtarget.com/fr/definition/Regression-logistique)\n",
    "- [K-plus proche voisins](https://datascientest.com/knn)\n",
    "- [Dataset de Pokémon](https://www.kaggle.com/kvpratama/pokemon-images-dataset)"
   ]
  },
  {
   "cell_type": "code",
   "execution_count": null,
   "id": "4b5a69c2",
   "metadata": {},
   "outputs": [],
   "source": []
  }
 ],
 "metadata": {
  "kernelspec": {
   "display_name": "Python 3",
   "language": "python",
   "name": "python3"
  },
  "language_info": {
   "codemirror_mode": {
    "name": "ipython",
    "version": 3
   },
   "file_extension": ".py",
   "mimetype": "text/x-python",
   "name": "python",
   "nbconvert_exporter": "python",
   "pygments_lexer": "ipython3",
   "version": "3.8.8"
  }
 },
 "nbformat": 4,
 "nbformat_minor": 5
}
