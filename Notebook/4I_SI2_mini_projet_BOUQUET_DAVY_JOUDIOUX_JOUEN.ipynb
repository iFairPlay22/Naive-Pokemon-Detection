{
 "cells": [
  {
   "cell_type": "markdown",
   "id": "2a933425",
   "metadata": {},
   "source": [
    "# 4I SI2 - Mini projet Machine Learning"
   ]
  },
  {
   "cell_type": "markdown",
   "id": "adf78db6",
   "metadata": {},
   "source": [
    "## Sommaire"
   ]
  },
  {
   "cell_type": "markdown",
   "id": "dce7e93c",
   "metadata": {},
   "source": [
    "* [Introduction](#introduction)\n",
    "* [Etat de l'art](#etat_de_lart)\n",
    "    * [Convolutional Neural Networks](#cnn)\n",
    "* [Ressources](#ressources)"
   ]
  },
  {
   "cell_type": "markdown",
   "id": "739d3f2d",
   "metadata": {},
   "source": [
    "## Introduction <a class=\"anchor\" id=\"introduction\"></a>"
   ]
  },
  {
   "attachments": {},
   "cell_type": "markdown",
   "id": "d5f86c16",
   "metadata": {},
   "source": [
    "Dans le but de créer une application de reconnaissance de Pokémon, type Pokedex, il nous a été demandé de developper la partie reconnaissance de Pokémon. Afin de réaliser cet objectif, nous utiliserons une méthode de reconnaissance d'image. <br/>\n",
    "Nous ferons dans un premier temps l'etat de l'art en realisant succinctement la description des differentes methodes de reconnaissance d'images existantes à ce jour. <br/>\n",
    "Dans un second temps, nous detaillerons une méthode que nous trouverons la plus adaptée a notre problématique et nous essayerons de la mettre en oeuvre. <br/>\n",
    "Enfin nous concluerons sur les resultats que nous obtiendrons."
   ]
  },
  {
   "attachments": {},
   "cell_type": "markdown",
   "id": "610c76c8",
   "metadata": {},
   "source": [
    "<img src=\"https://assets.pokemon.com/assets/cms2/img/pokedex/full/025.png\" style=\"width: 100px;\"></img>\n",
    "<img src=\"https://res.cloudinary.com/practicaldev/image/fetch/s--ugAVgNoo--/c_imagga_scale,f_auto,fl_progressive,h_420,q_auto,w_1000/https://cdn-images-1.medium.com/max/2000/0%2A0Y5OTBWR-YCcfel5.png\" style=\"width: 500px;\"></img>"
   ]
  },
  {
   "cell_type": "markdown",
   "id": "7fc2fdd9",
   "metadata": {},
   "source": [
    "## Etat de l'art de la classification d'images <a class=\"anchor\" id=\"ressources\"></a>"
   ]
  },
  {
   "cell_type": "markdown",
   "id": "a26912ac",
   "metadata": {},
   "source": [
    "La classification d'images est un problème d'apprentissage supervisé, c'est à dire réaliser une tâche d'apprentissage automatique consistant à apprendre une fonction de prédiction à partir d'exemples annotés. Il s'agit, dans un premier temps, de définir un ensemble de classes cibles (objets à identifier dans les images) et d'entraîner un modèle à les reconnaître à l'aide de photos exemples labelées. <br/>\n",
    "Les premiers modèles de vision par ordinateur s'appuyaient sur des données de pixels brutes comme entrée du modèle. Cependant, les données de pixels brutes ne fournissent pas à elles seules une représentation suffisamment stable pour englober la multitude de variations d'un objet capturé dans une image. La position de l'objet, l'arrière-plan derrière l'objet, l'éclairage ambiant, l'angle de la caméra et la mise au point de la caméra peuvent tous produire des fluctuations dans les données de pixels brutes ; ces différences sont suffisamment importantes pour ne pas pouvoir être corrigées en prenant des moyennes pondérées des valeurs RVB des pixels. <br/>\n",
    "Nous étudierons différentes méthodes utilisées dans la reconnaissance d'images, et réaliserons un descriptif succincte de celles-ci."
   ]
  },
  {
   "cell_type": "markdown",
   "id": "21bdc76f",
   "metadata": {},
   "source": [
    "### Convolutional Neural Networks <a class=\"anchor\" id=\"cnn\"></a>"
   ]
  },
  {
   "cell_type": "markdown",
   "id": "ec509343",
   "metadata": {},
   "source": [
    "Au lieu de prétraiter les données pour en extraire des caractéristiques telles que les textures et les formes, un réseau neuronal convolutif prend en entrée les données brutes des pixels de l'image et \"apprend\" à extraire ces caractéristiques, pour finalement déduire l'objet qu'elles constituent. <br/>\n",
    "Afin de réaliser cette prédiction, le modèle reçoit une carte de caractéristiques en entrée : une matrice tridimensionnelle où la taille des deux premières dimensions correspond à la longueur et à la largeur des images en pixels. La taille de la troisième dimension est 3 (correspondant aux 3 canaux d'une image couleur : rouge, vert et bleu). Le modèle est composé d'une pile de modules, chacun d'entre eux effectuant trois opérations.<br/>\n",
    "\n",
    "<img src=\"https://miro.medium.com/max/2000/1*vkQ0hXDaQv57sALXAJquxA.jpeg\" style=\"width: 700px;\"></img>\n",
    "\n",
    "#### Convolution\n",
    "\n",
    "Une convolution extrait des portions de la carte de caractéristiques (matrice) d'entrée et leur applique des filtres pour calculer de nouvelles caractéristiques, produisant une carte de caractéristiques de sortie, ou caractéristique convoluée. Cette matrice de sortie peut avoir une taille et une profondeur différentes de celle de la carte de caractéristique. <br/>\n",
    "<img src=\"https://developers.google.com/machine-learning/practica/image-classification/images/convolution_overview.gif\" style=\"width: 700px;\"></img>\n",
    "\n",
    "#### ReLU\n",
    "\n",
    "Après chaque opération de convolution, le modèle applique une transformation ReLU (Rectified Linear Unit) à la caractéristique de sortie de la convolution, afin d'introduire une non-linéarité dans le modèle. La fonction ReLU, renvoie x pour toutes les valeurs de x > 0, et renvoie 0 pour toutes les valeurs de x ≤ 0. <br/>\n",
    "\n",
    "#### Pooling\n",
    "\n",
    "Après ReLU vient une étape de pooling, dans laquelle le modèle sous-échantillonne la caractéristique de sortie de ReLU (pour gagner du temps de traitement), réduisant ainsi le nombre de dimensions de la carte de caractéristiques, tout en préservant les informations les plus critiques de la caractéristique. Un algorithme couramment utilisé pour ce processus est appelé max pooling. <br/>\n",
    "\n",
    "<img src=\"https://developers.google.com/machine-learning/practica/image-classification/images/maxpool_animation.gif\" style=\"width: 700px;\"></img>\n",
    "\n",
    "À la fin d'un réseau neuronal convolutif se trouvent une ou plusieurs couches entièrement connectées. Leur tâche consiste à effectuer une classification sur la base des caractéristiques extraites par les convolutions. En général, la dernière couche entièrement connectée contient une fonction d'activation softmax, qui produit une valeur de probabilité de 0 à 1 pour chacune des étiquettes de classification que le modèle tente de prédire."
   ]
  },
  {
   "cell_type": "markdown",
   "id": "ebd22485",
   "metadata": {},
   "source": [
    "## Ressources <a class=\"anchor\" id=\"etat_de_lart\"></a>"
   ]
  },
  {
   "cell_type": "markdown",
   "id": "155637a7",
   "metadata": {},
   "source": [
    "- [Google ML Practicum: Image Classification](https://developers.google.com/machine-learning/practica/image-classification?hl=en)\n",
    "- [Classifying Pokémon Images with Machine Learning](https://medium.com/m2mtechconnect/classifying-pok%C3%A9mon-images-with-machine-learning-79b9bc07c080)\n",
    "- [Dataset de Pokémon](https://www.kaggle.com/kvpratama/pokemon-images-dataset)"
   ]
  }
 ],
 "metadata": {
  "kernelspec": {
   "display_name": "Python 3 (ipykernel)",
   "language": "python",
   "name": "python3"
  },
  "language_info": {
   "codemirror_mode": {
    "name": "ipython",
    "version": 3
   },
   "file_extension": ".py",
   "mimetype": "text/x-python",
   "name": "python",
   "nbconvert_exporter": "python",
   "pygments_lexer": "ipython3",
   "version": "3.9.5"
  }
 },
 "nbformat": 4,
 "nbformat_minor": 5
}
